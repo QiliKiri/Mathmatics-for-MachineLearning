{
 "cells": [
  {
   "cell_type": "code",
   "execution_count": 1,
   "id": "5deac323-abf1-4f67-8d34-4abe20f98b9c",
   "metadata": {},
   "outputs": [],
   "source": [
    "import numpy as np"
   ]
  },
  {
   "cell_type": "code",
   "execution_count": 15,
   "id": "e8ab4ace-678d-4384-896f-33598aeee3f1",
   "metadata": {},
   "outputs": [],
   "source": [
    "def projection_matrix(basis_matrix):\n",
    "    B = basis_matrix\n",
    "    proj_m = B @ np.linalg.pinv(B.T @ B) @ B.T\n",
    "    return proj_m"
   ]
  },
  {
   "cell_type": "code",
   "execution_count": 33,
   "id": "6e1fdc43-929a-4224-981e-97f20f8d3e33",
   "metadata": {},
   "outputs": [],
   "source": [
    "def vector_projected(basis_matrix, x):\n",
    "    p = projection_matrix(basis_matrix) @ x\n",
    "    return p"
   ]
  },
  {
   "cell_type": "code",
   "execution_count": 70,
   "id": "2e35b43d-cdf0-474a-acc0-8419d72833ce",
   "metadata": {},
   "outputs": [],
   "source": [
    "def lambdas(A, x):\n",
    "    lambda_v = np.linalg.pinv(B.T @ B) @ B.T @ x\n",
    "    return lambda_v"
   ]
  },
  {
   "cell_type": "code",
   "execution_count": 71,
   "id": "58f34083-b315-4e4a-9b4b-d79a33fd0818",
   "metadata": {},
   "outputs": [],
   "source": [
    "def check_symmetric(A):\n",
    "    return np.allclose(A, A.T)"
   ]
  },
  {
   "cell_type": "code",
   "execution_count": 72,
   "id": "8239d6b2-85b6-4bc5-b76e-32a405b1884a",
   "metadata": {},
   "outputs": [],
   "source": [
    "def check_rank(A):\n",
    "    return np.linalg.matrix_rank(A)"
   ]
  },
  {
   "cell_type": "code",
   "execution_count": 81,
   "id": "8cb1fc91-4175-44ad-b309-36bb8906acbb",
   "metadata": {},
   "outputs": [],
   "source": [
    "array = [[1,1,1],[0,1,2]]\n",
    "v = [12,0,0]"
   ]
  },
  {
   "cell_type": "code",
   "execution_count": 82,
   "id": "3613759e-2f91-4d7d-b033-5cf795b5e816",
   "metadata": {},
   "outputs": [
    {
     "name": "stdout",
     "output_type": "stream",
     "text": [
      "lambda vector: \n",
      "[[10.]\n",
      " [-6.]]\n",
      "projection matrix: \n",
      "[[ 0.83333333  0.33333333 -0.16666667]\n",
      " [ 0.33333333  0.33333333  0.33333333]\n",
      " [-0.16666667  0.33333333  0.83333333]]\n",
      "vector after projection: \n",
      "[[10.]\n",
      " [ 4.]\n",
      " [-2.]]\n",
      "projection matrix symmetric: True\n",
      "projection matrix rank: 2\n"
     ]
    }
   ],
   "source": [
    "x = np.array(v).reshape(-1, 1)\n",
    "B = np.array(array).T\n",
    "\n",
    "A = projection_matrix(B)\n",
    "p = vector_projected(B, x).reshape(-1, 1)\n",
    "s = check_symmetric(A)\n",
    "r = check_rank(A)\n",
    "lambda_v = lambdas(A, x)\n",
    "\n",
    "print(f'lambda vector: \\n{lambda_v}')\n",
    "print(f'projection matrix: \\n{A}')\n",
    "print(f'vector after projection: \\n{p}')\n",
    "print(f'projection matrix symmetric: {s}')\n",
    "print(f'projection matrix rank: {r}')"
   ]
  },
  {
   "cell_type": "code",
   "execution_count": null,
   "id": "ebcb1c4b-06f0-49b9-90be-d0c29fa29f98",
   "metadata": {},
   "outputs": [],
   "source": []
  }
 ],
 "metadata": {
  "kernelspec": {
   "display_name": "Python 3",
   "language": "python",
   "name": "python3"
  },
  "language_info": {
   "codemirror_mode": {
    "name": "ipython",
    "version": 3
   },
   "file_extension": ".py",
   "mimetype": "text/x-python",
   "name": "python",
   "nbconvert_exporter": "python",
   "pygments_lexer": "ipython3",
   "version": "3.9.0"
  }
 },
 "nbformat": 4,
 "nbformat_minor": 5
}
