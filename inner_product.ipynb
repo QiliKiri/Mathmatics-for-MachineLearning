{
 "cells": [
  {
   "cell_type": "code",
   "execution_count": 2,
   "id": "f08e3275-8ddb-44ab-aa0a-7a52f03c9f3d",
   "metadata": {},
   "outputs": [],
   "source": [
    "import numpy as np"
   ]
  },
  {
   "cell_type": "code",
   "execution_count": 17,
   "id": "f84d9c95-d971-4e20-b8df-9f5ca738a104",
   "metadata": {},
   "outputs": [],
   "source": [
    "def inner_product(x, y, A):\n",
    "    product =  x.T @ A @ y\n",
    "    return product"
   ]
  },
  {
   "cell_type": "code",
   "execution_count": 18,
   "id": "2bbe7d99-707f-4a4d-8599-117311c4db5c",
   "metadata": {},
   "outputs": [],
   "source": [
    "def vector_length(x, A):\n",
    "    length = inner_product(x, x, A) ** 0.5\n",
    "    return length"
   ]
  },
  {
   "cell_type": "code",
   "execution_count": 35,
   "id": "2e72cf0d-5277-41c4-9c75-5e273b69f20a",
   "metadata": {},
   "outputs": [],
   "source": [
    "def angle(x, y, A):\n",
    "    # np.arccos return radians in [0, pi]\n",
    "    radius = np.arccos(inner_product(x, y, A) / (vector_length(x, A) * vector_length(y, A))) \n",
    "    degree = radius * 180 / np.pi\n",
    "    return degree, radius"
   ]
  },
  {
   "cell_type": "code",
   "execution_count": 41,
   "id": "a722addc-703a-45f7-9597-72a9c628769a",
   "metadata": {},
   "outputs": [],
   "source": [
    "x = np.array([1, 1, 1])\n",
    "y = np.array([2, -1, 0])\n",
    "A = np.array([[1, 0, 0], [0, 2, -1], [ 0, -1, 3]])"
   ]
  },
  {
   "cell_type": "code",
   "execution_count": 42,
   "id": "938569d8-2c5b-491d-8f19-c6219d1b8b60",
   "metadata": {},
   "outputs": [
    {
     "name": "stdout",
     "output_type": "stream",
     "text": [
      "inner product: 1\n",
      "degree, radius: (78.22176784544939, 1.3652273956337226)\n"
     ]
    }
   ],
   "source": [
    "print(f'inner product: {inner_product(x, y, A)}')\n",
    "print(f'degree, radius: {angle(x, y, A)}')"
   ]
  },
  {
   "cell_type": "code",
   "execution_count": null,
   "id": "f66b771f-63c8-4c4b-bebb-1926f14b3bbb",
   "metadata": {},
   "outputs": [],
   "source": []
  }
 ],
 "metadata": {
  "kernelspec": {
   "display_name": "Python 3",
   "language": "python",
   "name": "python3"
  },
  "language_info": {
   "codemirror_mode": {
    "name": "ipython",
    "version": 3
   },
   "file_extension": ".py",
   "mimetype": "text/x-python",
   "name": "python",
   "nbconvert_exporter": "python",
   "pygments_lexer": "ipython3",
   "version": "3.9.0"
  }
 },
 "nbformat": 4,
 "nbformat_minor": 5
}
